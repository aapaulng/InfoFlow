{
 "cells": [
  {
   "cell_type": "code",
   "execution_count": 36,
   "metadata": {},
   "outputs": [],
   "source": [
    "spark.stop()"
   ]
  },
  {
   "cell_type": "markdown",
   "metadata": {},
   "source": [
    "## Household - Most Living Site"
   ]
  },
  {
   "cell_type": "code",
   "execution_count": 1,
   "metadata": {},
   "outputs": [],
   "source": [
    "import os\n",
    "import networkx as nx"
   ]
  },
  {
   "cell_type": "code",
   "execution_count": 2,
   "metadata": {},
   "outputs": [
    {
     "name": "stdout",
     "output_type": "stream",
     "text": [
      "env: SPARK_HOME=/opt/cloudera/parcels/CDH/lib/spark\n",
      "env: PYSPARK_PYTHON=/opt/cloudera/parcels/Anaconda/bin/python3.6\n"
     ]
    }
   ],
   "source": [
    "%env  SPARK_HOME=/opt/cloudera/parcels/CDH/lib/spark\n",
    "%env  PYSPARK_PYTHON=/opt/cloudera/parcels/Anaconda/bin/python3.6\n",
    "# os.environ['PYSPARK_SUBMIT_ARGS'] = '--packages graphframes:graphframes:0.6.0-spark2.3-s_2.11 pyspark-shell'\n",
    "os.environ['PYSPARK_SUBMIT_ARGS'] = '--jars /home/paul/jar/graphframes-0.5.0-spark2.1-s_2.11.jar,/home/paul/jar/scala-logging-api_2.11-2.1.2.jar,/home/paul/jar/scala-logging-slf4j_2.11-2.1.2.jar pyspark-shell'"
   ]
  },
  {
   "cell_type": "code",
   "execution_count": 146,
   "metadata": {},
   "outputs": [],
   "source": [
    "import ast\n",
    "import logging\n",
    "import math\n",
    "import numpy as np\n",
    "import os\n",
    "import pandas as pd\n",
    "import pyspark.sql.functions as F\n",
    "import warnings\n",
    "import json\n",
    "\n",
    "from datetime import datetime, timedelta\n",
    "from pyspark import SparkConf\n",
    "from pyspark.sql import SparkSession, DataFrame\n",
    "from pyspark.sql.types import (DoubleType, FloatType,IntegerType, ArrayType,\n",
    "    StringType, TimestampType, StructField, StructType, DecimalType, LongType)\n",
    "from pyspark.sql.window import Window\n",
    "from typing import Iterable\n",
    "from graphframes import *\n",
    "\n",
    "\n",
    "log_path = os.getcwd() + \"/somelog.log\"\n",
    "logging.basicConfig(level=logging.INFO, filename=log_path, filemode=\"a+\",\n",
    "                    format=\"%(asctime)-15s %(levelname)-8s %(message)s\")"
   ]
  },
  {
   "cell_type": "code",
   "execution_count": 4,
   "metadata": {},
   "outputs": [],
   "source": [
    "import networkx as nx\n",
    "from graphframes import GraphFrame\n",
    "from matplotlib import pyplot as plt\n",
    "\n",
    "%matplotlib inline\n",
    "\n",
    "def PlotGraph(edge_list):\n",
    "    Gplot=nx.Graph()\n",
    "    for row in edge_list.select('src','dst').take(1000):\n",
    "        Gplot.add_edge(row['src'],row['dst'])\n",
    "\n",
    "    plt.subplot(121)\n",
    "    nx.draw(Gplot, with_labels=True, font_weight='bold')"
   ]
  },
  {
   "cell_type": "code",
   "execution_count": 5,
   "metadata": {},
   "outputs": [],
   "source": [
    "# Spark Set-up\n",
    "conf = SparkConf()\n",
    "conf.set('spark.master','yarn')\n",
    "conf.set('spark.yarn.queue','root.QUEUE')\n",
    "conf.set('spark.driver.memory',\"10G\")\n",
    "\n",
    "# Executor Memory\n",
    "conf.set('spark.executor.cores',\"25\")\n",
    "conf.set('spark.executor.memory',\"10G\")\n",
    "conf.set('spark.memory.storageFraction','0.3')\n",
    "conf.set('spark.executor.memoryOverhead',\"8G\")\n",
    "conf.set('spark.executor.instances',\"5\")\n",
    "\n",
    "# Dynamic Allocation \n",
    "conf.set('spark.dynamicAllocation.enabled',\"false\")\n",
    "\n",
    "# KyroSerializer - suppose to replace Java serializer\n",
    "conf.set(\"spark.serializer\", \"org.apache.spark.serializer.KryoSerializer\")\n",
    "conf.set(\"spark.kryo.registrationRequired\", \"false\")\n",
    "\n",
    "# Disable Schema Merging, no need scan so many partition\n",
    "conf.set(\"spark.sql.hive.convertMetastoreParquet.mergeSchema\",\"false\")\n",
    "conf.set(\"parquet.enable.summary-metadata\",\"false\")\n",
    "conf.set(\"spark.sql.parquet.mergeSchema\", \"false\")\n",
    "\n",
    "conf.set(\"spark.sql.adaptive.skewJoin.enabled\", \"true\")\n",
    "\n",
    "# Replace existing table even when error\n",
    "conf.set(\"spark.sql.legacy.allowCreatingManagedTableUsingNonemptyLocation\",\"true\")\n",
    "\n",
    "# Graph Frame\n",
    "# conf.set('spark.jars.packages','graphframes:graphframes:0.6.0-spark2.3-s_2.11')\n",
    "\n",
    "# Create the SparkSession\n",
    "spark = SparkSession.builder.appName(\"household_most_living_site\").config(conf=conf)\\\n",
    "            .enableHiveSupport().getOrCreate()"
   ]
  },
  {
   "cell_type": "markdown",
   "metadata": {},
   "source": [
    "# Creating Sample"
   ]
  },
  {
   "cell_type": "code",
   "execution_count": 150,
   "metadata": {},
   "outputs": [],
   "source": [
    "# Vertex DataFrame\n",
    "v = spark.createDataFrame([\n",
    "  (1,\"sub1-X\",'sub'),\n",
    "  (2,\"sub2-X\",'sub'),\n",
    "  (3,\"sub3-Y\",'sub'),\n",
    "  (4,\"sub4-Z\",'sub'),\n",
    "  (5,\"siteX\",'site'),\n",
    "  (6,\"siteY\",'site'),\n",
    "  (7,\"siteZ\",'site')\n",
    "], [\"id\",\"name\",\"category\"])\n",
    "\n",
    "# Edge DataFrame\n",
    "e = spark.createDataFrame([\n",
    "  (5, 6, \"near\",2),\n",
    "  (1, 5, \"live\",0),\n",
    "  (2, 5, \"live\",0),\n",
    "  (3, 6, \"live\",0),\n",
    "  (4, 7, \"live\",0),\n",
    "  (2,1,\"call\",5),\n",
    "  (2,3,\"call\",10)\n",
    "], [\"src\", \"dst\", \"relationship\",\"weightage\"], schema)\n",
    "# Create a GraphFrame\n",
    "g = GraphFrame(v, e)"
   ]
  },
  {
   "cell_type": "code",
   "execution_count": 151,
   "metadata": {},
   "outputs": [],
   "source": [
    "motifs = (\n",
    "    g\\\n",
    "        .find(\"(suba)-[livea]->(sitea); (sitea)-[near]->(siteb); (subb)-[liveb]->(siteb); (suba)-[call]->(subb)\")\\\n",
    "        .filter(\"livea.relationship = 'live'\")\\\n",
    "        .filter(\"liveb.relationship = 'live'\")\\\n",
    "        .filter(\"call.relationship != 'live'\")\n",
    "        .select(F.col(\"suba.id\").alias('src'),\n",
    "                F.col(\"subb.id\").alias('dst'),\n",
    "                F.col(\"near.weightage\").alias(\"distance_weightage\"),\n",
    "                F.col(\"call.weightage\").alias(\"call_weightage\"))\\\n",
    "        .withColumn(\"weightage\",F.col('call_weightage')+F.col(\"distance_weightage\"))\\\n",
    "        .filter(F.col('weightage')>0)\\\n",
    "        .select(F.col('src'),\n",
    "                F.col('dst'),\n",
    "                F.col('weightage'))\n",
    ")"
   ]
  },
  {
   "cell_type": "code",
   "execution_count": 152,
   "metadata": {},
   "outputs": [
    {
     "name": "stdout",
     "output_type": "stream",
     "text": [
      "+---+---+---------+\n",
      "|src|dst|weightage|\n",
      "+---+---+---------+\n",
      "|  2|  3|       12|\n",
      "+---+---+---------+\n",
      "\n"
     ]
    }
   ],
   "source": [
    "motifs.show()"
   ]
  },
  {
   "cell_type": "code",
   "execution_count": 153,
   "metadata": {},
   "outputs": [],
   "source": [
    "motifs2 = (\n",
    "    g\\\n",
    "        .find(\"(suba)-[livea]->(sitea); (subb)-[liveb]->(sitea); (suba)-[call]->(subb)\")\\\n",
    "        .filter(\"livea.relationship = 'live'\")\\\n",
    "        .filter(\"liveb.relationship = 'live'\")\\\n",
    "        .filter(\"call.relationship != 'live'\")\\\n",
    "        .select(F.col(\"suba.id\").alias('src'),\n",
    "                F.col(\"subb.id\").alias('dst'),\n",
    "                F.lit(10).alias('distance_weightage'),\n",
    "                F.col(\"call.weightage\").alias(\"call_weightage\"))\\\n",
    "        .withColumn(\"weightage\",F.col('call_weightage')+F.col(\"distance_weightage\"))\\\n",
    "        .filter(F.col('weightage')>0)\\\n",
    "        .select(F.col('src'),\n",
    "                F.col('dst'),\n",
    "                F.col('weightage'))\n",
    ")"
   ]
  },
  {
   "cell_type": "code",
   "execution_count": 154,
   "metadata": {},
   "outputs": [
    {
     "name": "stdout",
     "output_type": "stream",
     "text": [
      "+---+---+---------+\n",
      "|src|dst|weightage|\n",
      "+---+---+---------+\n",
      "|  2|  1|       15|\n",
      "+---+---+---------+\n",
      "\n"
     ]
    }
   ],
   "source": [
    "motifs2.show()"
   ]
  },
  {
   "cell_type": "code",
   "execution_count": 183,
   "metadata": {},
   "outputs": [
    {
     "name": "stdout",
     "output_type": "stream",
     "text": [
      "+---+---+---------+\n",
      "|src|dst|weightage|\n",
      "+---+---+---------+\n",
      "|  2|  3|       12|\n",
      "|  2|  1|       15|\n",
      "+---+---+---------+\n",
      "\n"
     ]
    }
   ],
   "source": [
    "final_motif = motifs.union(motifs2)\n",
    "final_motif.show()"
   ]
  },
  {
   "cell_type": "code",
   "execution_count": 184,
   "metadata": {},
   "outputs": [],
   "source": [
    "final_motif = final_motif.\\\n",
    "    select(F.col('src').cast('long').alias('from'),\n",
    "           F.col('dst').cast('long').alias('to'),\n",
    "           F.col('weightage').cast('double').alias('weight'))"
   ]
  },
  {
   "cell_type": "code",
   "execution_count": 185,
   "metadata": {},
   "outputs": [
    {
     "name": "stdout",
     "output_type": "stream",
     "text": [
      "root\n",
      " |-- from: long (nullable = true)\n",
      " |-- to: long (nullable = true)\n",
      " |-- weight: double (nullable = true)\n",
      "\n"
     ]
    }
   ],
   "source": [
    "final_motif.printSchema()"
   ]
  },
  {
   "cell_type": "markdown",
   "metadata": {},
   "source": [
    "# Edges"
   ]
  },
  {
   "cell_type": "code",
   "execution_count": 186,
   "metadata": {},
   "outputs": [],
   "source": [
    "final_motif.repartition(1).write.format(\"parquet\").mode(\"overwrite\").save(\"hdfs:///user/paul/paul_sample_edges\")"
   ]
  },
  {
   "cell_type": "markdown",
   "metadata": {},
   "source": [
    "# Vertex"
   ]
  },
  {
   "cell_type": "code",
   "execution_count": 178,
   "metadata": {},
   "outputs": [],
   "source": [
    "final_vertex = newG.vertices\\\n",
    "    .withColumn('module',F.lit(0))\\\n",
    "    .select(F.col('id').cast('long').alias('idx'),\n",
    "            F.col('name'),\n",
    "            F.col('module').cast('long'))"
   ]
  },
  {
   "cell_type": "code",
   "execution_count": 179,
   "metadata": {},
   "outputs": [
    {
     "name": "stdout",
     "output_type": "stream",
     "text": [
      "root\n",
      " |-- idx: long (nullable = true)\n",
      " |-- name: string (nullable = true)\n",
      " |-- module: long (nullable = false)\n",
      "\n"
     ]
    }
   ],
   "source": [
    "final_vertex.printSchema()"
   ]
  },
  {
   "cell_type": "code",
   "execution_count": 180,
   "metadata": {},
   "outputs": [],
   "source": [
    "final_vertex.repartition(1).write.format(\"parquet\").mode(\"overwrite\").save(\"hdfs:///user/paul/paul_sample_vertices\")"
   ]
  },
  {
   "cell_type": "code",
   "execution_count": 164,
   "metadata": {},
   "outputs": [
    {
     "data": {
      "text/plain": [
       "StructType(List(StructField(idx,IntegerType,false),StructField(name,StringType,false),StructField(module,IntegerType,false)))"
      ]
     },
     "execution_count": 164,
     "metadata": {},
     "output_type": "execute_result"
    }
   ],
   "source": [
    "# schema = StructType()\n",
    "# for field in final_vertex.schema.fields:\n",
    "#     schema.add(StructField(field.name, field.dataType, False))\n",
    "# f_vertex = spark.createDataFrame(final_vertex.rdd, schema)\n",
    "\n",
    "# f_vertex.schema"
   ]
  },
  {
   "cell_type": "markdown",
   "metadata": {},
   "source": [
    "# Save as Pajek (Backup If HDFS really Cannot)"
   ]
  },
  {
   "cell_type": "code",
   "execution_count": 39,
   "metadata": {},
   "outputs": [],
   "source": [
    "edges = pd.read_parquet('Nets/paul_sample_edges.parquet')\n",
    "edges.columns = ['source','target','weight']"
   ]
  },
  {
   "cell_type": "code",
   "execution_count": 40,
   "metadata": {},
   "outputs": [
    {
     "data": {
      "text/html": [
       "<div>\n",
       "<style scoped>\n",
       "    .dataframe tbody tr th:only-of-type {\n",
       "        vertical-align: middle;\n",
       "    }\n",
       "\n",
       "    .dataframe tbody tr th {\n",
       "        vertical-align: top;\n",
       "    }\n",
       "\n",
       "    .dataframe thead th {\n",
       "        text-align: right;\n",
       "    }\n",
       "</style>\n",
       "<table border=\"1\" class=\"dataframe\">\n",
       "  <thead>\n",
       "    <tr style=\"text-align: right;\">\n",
       "      <th></th>\n",
       "      <th>source</th>\n",
       "      <th>target</th>\n",
       "      <th>weight</th>\n",
       "    </tr>\n",
       "  </thead>\n",
       "  <tbody>\n",
       "    <tr>\n",
       "      <th>0</th>\n",
       "      <td>b</td>\n",
       "      <td>c</td>\n",
       "      <td>12</td>\n",
       "    </tr>\n",
       "    <tr>\n",
       "      <th>1</th>\n",
       "      <td>b</td>\n",
       "      <td>a</td>\n",
       "      <td>15</td>\n",
       "    </tr>\n",
       "  </tbody>\n",
       "</table>\n",
       "</div>"
      ],
      "text/plain": [
       "  source target  weight\n",
       "0      b      c      12\n",
       "1      b      a      15"
      ]
     },
     "execution_count": 40,
     "metadata": {},
     "output_type": "execute_result"
    }
   ],
   "source": [
    "edges.head()"
   ]
  },
  {
   "cell_type": "code",
   "execution_count": 41,
   "metadata": {},
   "outputs": [],
   "source": [
    "G = nx.from_pandas_edgelist(edges,edge_attr=True)"
   ]
  },
  {
   "cell_type": "code",
   "execution_count": 57,
   "metadata": {},
   "outputs": [],
   "source": [
    "G2 = nx.MultiGraph(G)"
   ]
  },
  {
   "cell_type": "code",
   "execution_count": 54,
   "metadata": {},
   "outputs": [],
   "source": [
    "nx.write_pajek(G,\"Nets/paul_sample_graph.net\")"
   ]
  },
  {
   "cell_type": "code",
   "execution_count": 67,
   "metadata": {},
   "outputs": [],
   "source": [
    "nx.write_pajek(G2,\"Nets/paul_sample_graph.net\")"
   ]
  },
  {
   "cell_type": "code",
   "execution_count": 14,
   "metadata": {},
   "outputs": [],
   "source": [
    "sample = nx.read_pajek(\"Nets/rosvall.net\")"
   ]
  },
  {
   "cell_type": "code",
   "execution_count": 22,
   "metadata": {},
   "outputs": [
    {
     "data": {
      "text/plain": [
       "NodeView(('red001', 'red0000', 'red11', 'red100', 'red101', 'red01', 'orange110', 'orange011', 'orange00', 'orange111', 'orange1010', 'orange100', 'orange010', 'green111', 'green000', 'green1100', 'green10', 'green0010', 'green1101', 'green011', 'green010', 'blue00', 'blue10', 'blue11', 'blue011'))"
      ]
     },
     "execution_count": 22,
     "metadata": {},
     "output_type": "execute_result"
    }
   ],
   "source": [
    "sample.nodes()"
   ]
  },
  {
   "cell_type": "code",
   "execution_count": 30,
   "metadata": {},
   "outputs": [
    {
     "data": {
      "text/plain": [
       "NodeView(('b', 'c', 'a'))"
      ]
     },
     "execution_count": 30,
     "metadata": {},
     "output_type": "execute_result"
    }
   ],
   "source": [
    "G.nodes()"
   ]
  },
  {
   "cell_type": "code",
   "execution_count": 49,
   "metadata": {},
   "outputs": [
    {
     "data": {
      "text/plain": [
       "{'weight': 1.0}"
      ]
     },
     "execution_count": 49,
     "metadata": {},
     "output_type": "execute_result"
    }
   ],
   "source": [
    "sample.edges['red001','red01',0]"
   ]
  },
  {
   "cell_type": "code",
   "execution_count": 24,
   "metadata": {},
   "outputs": [
    {
     "data": {
      "text/plain": [
       "MultiEdgeDataView([('red001', 'red01'), ('red001', 'red01'), ('red001', 'red11'), ('red001', 'red11'), ('red0000', 'red11'), ('red0000', 'red11'), ('red11', 'red01'), ('red11', 'red01'), ('red11', 'red100'), ('red11', 'red100'), ('red11', 'red101'), ('red11', 'red101'), ('red100', 'red101'), ('red100', 'red101'), ('red101', 'red01'), ('red101', 'red01'), ('red01', 'orange110'), ('red01', 'orange110'), ('orange110', 'orange111'), ('orange110', 'orange111'), ('orange110', 'orange00'), ('orange110', 'orange00'), ('orange110', 'orange011'), ('orange110', 'orange011'), ('orange011', 'orange00'), ('orange011', 'orange00'), ('orange011', 'orange100'), ('orange011', 'orange100'), ('orange00', 'orange111'), ('orange00', 'orange111'), ('orange00', 'orange1010'), ('orange00', 'orange1010'), ('orange00', 'orange100'), ('orange00', 'orange100'), ('orange111', 'orange010'), ('orange111', 'orange010'), ('orange111', 'green111'), ('orange111', 'green111'), ('orange1010', 'orange100'), ('orange1010', 'orange100'), ('orange1010', 'orange010'), ('orange1010', 'orange010'), ('orange100', 'orange010'), ('orange100', 'orange010'), ('orange010', 'blue00'), ('orange010', 'blue00'), ('green111', 'green10'), ('green111', 'green10'), ('green111', 'green000'), ('green111', 'green000'), ('green111', 'green1100'), ('green111', 'green1100'), ('green000', 'green10'), ('green000', 'green10'), ('green1100', 'green011'), ('green1100', 'green011'), ('green1100', 'green10'), ('green1100', 'green10'), ('green10', 'green011'), ('green10', 'green011'), ('green10', 'green010'), ('green10', 'green010'), ('green10', 'green0010'), ('green10', 'green0010'), ('green10', 'green1101'), ('green10', 'green1101'), ('green1101', 'green011'), ('green1101', 'green011'), ('green1101', 'green010'), ('green1101', 'green010'), ('green011', 'blue11'), ('green011', 'blue11'), ('green011', 'green010'), ('green011', 'green010'), ('blue00', 'blue11'), ('blue00', 'blue11'), ('blue00', 'blue10'), ('blue00', 'blue10'), ('blue10', 'blue11'), ('blue10', 'blue11'), ('blue10', 'blue011'), ('blue10', 'blue011'), ('blue11', 'blue011'), ('blue11', 'blue011')])"
      ]
     },
     "execution_count": 24,
     "metadata": {},
     "output_type": "execute_result"
    }
   ],
   "source": [
    "sample.edges()"
   ]
  },
  {
   "cell_type": "code",
   "execution_count": 65,
   "metadata": {},
   "outputs": [
    {
     "data": {
      "text/plain": [
       "MultiEdgeDataView([('b', 'c'), ('b', 'a')])"
      ]
     },
     "execution_count": 65,
     "metadata": {},
     "output_type": "execute_result"
    }
   ],
   "source": [
    "G2.edges()"
   ]
  },
  {
   "cell_type": "code",
   "execution_count": 50,
   "metadata": {},
   "outputs": [
    {
     "data": {
      "text/plain": [
       "{'weight': 12}"
      ]
     },
     "execution_count": 50,
     "metadata": {},
     "output_type": "execute_result"
    }
   ],
   "source": [
    "G.edges['b','c']"
   ]
  },
  {
   "cell_type": "code",
   "execution_count": 44,
   "metadata": {},
   "outputs": [
    {
     "data": {
      "text/plain": [
       "{('b', 'c'): 12, ('b', 'a'): 15}"
      ]
     },
     "execution_count": 44,
     "metadata": {},
     "output_type": "execute_result"
    }
   ],
   "source": [
    "nx.get_edge_attributes(G,'weight')"
   ]
  },
  {
   "cell_type": "code",
   "execution_count": 66,
   "metadata": {},
   "outputs": [
    {
     "data": {
      "text/plain": [
       "{('b', 'c', 0): 12, ('b', 'a', 0): 15}"
      ]
     },
     "execution_count": 66,
     "metadata": {},
     "output_type": "execute_result"
    }
   ],
   "source": [
    "nx.get_edge_attributes(G2,'weight')"
   ]
  },
  {
   "cell_type": "code",
   "execution_count": 45,
   "metadata": {},
   "outputs": [
    {
     "data": {
      "text/plain": [
       "{('red001', 'red01', 0): 1.0,\n",
       " ('red001', 'red01', 1): 1.0,\n",
       " ('red001', 'red11', 0): 1.0,\n",
       " ('red001', 'red11', 1): 1.0,\n",
       " ('red0000', 'red11', 0): 1.0,\n",
       " ('red0000', 'red11', 1): 1.0,\n",
       " ('red11', 'red01', 0): 1.0,\n",
       " ('red11', 'red01', 1): 1.0,\n",
       " ('red11', 'red100', 0): 1.0,\n",
       " ('red11', 'red100', 1): 1.0,\n",
       " ('red11', 'red101', 0): 1.0,\n",
       " ('red11', 'red101', 1): 1.0,\n",
       " ('red100', 'red101', 0): 1.0,\n",
       " ('red100', 'red101', 1): 1.0,\n",
       " ('red101', 'red01', 0): 1.0,\n",
       " ('red101', 'red01', 1): 1.0,\n",
       " ('red01', 'orange110', 0): 0.1,\n",
       " ('red01', 'orange110', 1): 0.1,\n",
       " ('orange110', 'orange111', 0): 2.0,\n",
       " ('orange110', 'orange111', 1): 1.0,\n",
       " ('orange110', 'orange00', 0): 1.0,\n",
       " ('orange110', 'orange00', 1): 1.0,\n",
       " ('orange110', 'orange011', 0): 1.0,\n",
       " ('orange110', 'orange011', 1): 1.0,\n",
       " ('orange011', 'orange00', 0): 1.0,\n",
       " ('orange011', 'orange00', 1): 1.0,\n",
       " ('orange011', 'orange100', 0): 1.0,\n",
       " ('orange011', 'orange100', 1): 1.0,\n",
       " ('orange00', 'orange111', 0): 1.0,\n",
       " ('orange00', 'orange111', 1): 1.0,\n",
       " ('orange00', 'orange1010', 0): 1.0,\n",
       " ('orange00', 'orange1010', 1): 1.0,\n",
       " ('orange00', 'orange100', 0): 1.0,\n",
       " ('orange00', 'orange100', 1): 1.0,\n",
       " ('orange111', 'orange010', 0): 1.0,\n",
       " ('orange111', 'orange010', 1): 1.0,\n",
       " ('orange111', 'green111', 0): 1.0,\n",
       " ('orange111', 'green111', 1): 1.0,\n",
       " ('orange1010', 'orange100', 0): 1.0,\n",
       " ('orange1010', 'orange100', 1): 1.0,\n",
       " ('orange1010', 'orange010', 0): 1.0,\n",
       " ('orange1010', 'orange010', 1): 1.0,\n",
       " ('orange100', 'orange010', 0): 1.0,\n",
       " ('orange100', 'orange010', 1): 1.0,\n",
       " ('orange010', 'blue00', 0): 0.3,\n",
       " ('orange010', 'blue00', 1): 0.3,\n",
       " ('green111', 'green10', 0): 2.0,\n",
       " ('green111', 'green10', 1): 2.0,\n",
       " ('green111', 'green000', 0): 2.0,\n",
       " ('green111', 'green000', 1): 2.0,\n",
       " ('green111', 'green1100', 0): 1.0,\n",
       " ('green111', 'green1100', 1): 1.0,\n",
       " ('green000', 'green10', 0): 2.0,\n",
       " ('green000', 'green10', 1): 2.0,\n",
       " ('green1100', 'green011', 0): 1.0,\n",
       " ('green1100', 'green011', 1): 1.0,\n",
       " ('green1100', 'green10', 0): 1.0,\n",
       " ('green1100', 'green10', 1): 1.0,\n",
       " ('green10', 'green011', 0): 3.0,\n",
       " ('green10', 'green011', 1): 3.0,\n",
       " ('green10', 'green010', 0): 1.0,\n",
       " ('green10', 'green010', 1): 1.0,\n",
       " ('green10', 'green0010', 0): 3.0,\n",
       " ('green10', 'green0010', 1): 3.0,\n",
       " ('green10', 'green1101', 0): 1.0,\n",
       " ('green10', 'green1101', 1): 1.0,\n",
       " ('green1101', 'green011', 0): 1.0,\n",
       " ('green1101', 'green011', 1): 1.0,\n",
       " ('green1101', 'green010', 0): 3.0,\n",
       " ('green1101', 'green010', 1): 3.0,\n",
       " ('green011', 'blue11', 0): 0.5,\n",
       " ('green011', 'blue11', 1): 0.5,\n",
       " ('green011', 'green010', 0): 2.0,\n",
       " ('green011', 'green010', 1): 2.0,\n",
       " ('blue00', 'blue11', 0): 1.0,\n",
       " ('blue00', 'blue11', 1): 1.0,\n",
       " ('blue00', 'blue10', 0): 1.0,\n",
       " ('blue00', 'blue10', 1): 1.0,\n",
       " ('blue10', 'blue11', 0): 3.0,\n",
       " ('blue10', 'blue11', 1): 3.0,\n",
       " ('blue10', 'blue011', 0): 0.5,\n",
       " ('blue10', 'blue011', 1): 0.5,\n",
       " ('blue11', 'blue011', 0): 1.0,\n",
       " ('blue11', 'blue011', 1): 1.0}"
      ]
     },
     "execution_count": 45,
     "metadata": {},
     "output_type": "execute_result"
    }
   ],
   "source": [
    "nx.get_edge_attributes(sample,'weight')"
   ]
  }
 ],
 "metadata": {
  "kernelspec": {
   "display_name": "Python 3",
   "language": "python",
   "name": "python3"
  },
  "language_info": {
   "codemirror_mode": {
    "name": "ipython",
    "version": 3
   },
   "file_extension": ".py",
   "mimetype": "text/x-python",
   "name": "python",
   "nbconvert_exporter": "python",
   "pygments_lexer": "ipython3",
   "version": "3.6.6"
  }
 },
 "nbformat": 4,
 "nbformat_minor": 2
}
