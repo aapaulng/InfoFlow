{
 "cells": [
  {
   "cell_type": "markdown",
   "metadata": {},
   "source": [
    "# InfoMap and InfoFlow algorithm demo"
   ]
  },
  {
   "cell_type": "markdown",
   "metadata": {},
   "source": [
    "This notebook provides a demo on the InfoMap and InfoFlow algorithm. Specifically, to run the algorithms on a graph example with explanations"
   ]
  },
  {
   "cell_type": "markdown",
   "metadata": {},
   "source": [
    "## Set up environment and run InfoMap"
   ]
  },
  {
   "cell_type": "code",
   "execution_count": 20,
   "metadata": {},
   "outputs": [],
   "source": [
    "import os\n",
    "import json\n",
    "import networkx as nx\n",
    "import matplotlib.pyplot as plt\n",
    "from networkx.readwrite import json_graph"
   ]
  },
  {
   "cell_type": "code",
   "execution_count": 40,
   "metadata": {},
   "outputs": [],
   "source": [
    "# parameters related to Java\n",
    "java_conf = {\n",
    "    \"dir\": r'/home/paul/SomeProjects',\n",
    "    \"jar_name\": \"infoflow\",\n",
    "    \"scala_version\": \"2.11\",\n",
    "    \"infoflow_version\": \"1.1.1\"\n",
    "}"
   ]
  },
  {
   "cell_type": "code",
   "execution_count": 48,
   "metadata": {},
   "outputs": [],
   "source": [
    "# parameters required in InfoFlow config file\n",
    "infoflow_config = {\n",
    "#     \"Graph\": 'Nets/paul_sample_graph.net',\n",
    "    \"Graph\":\"data.parquet\",\n",
    "    \"spark configs\": {\n",
    "    \"Master\": \"yarn\",\n",
    "    \"num executors\": \"5\",\n",
    "    \"executor cores\": \"8\",\n",
    "    \"driver memory\": \"10G\",\n",
    "    \"executor memory\": \"2G\",\n",
    "    \"queue\": \"root.QUEUE\",\n",
    "    \"storage fraction\": \"0.3\",\n",
    "    \"memory overhead\": \"4G\",\n",
    "    \"dynamic allocation flag\": \"false\",\n",
    "    \"serializer\": \"org.apache.spark.serializer.KryoSerializer\",\n",
    "    \"kyro registration flag\": \"false\"\n",
    "    },\n",
    "    \"PageRank\": {\n",
    "        \"tele\": 0.15,\n",
    "        \"error threshold factor\": 20\n",
    "    },\n",
    "    \"Community Detection\": {\n",
    "        \"name\": \"InfoFlow\",\n",
    "        \"merge direction\": \"symmetric\",\n",
    "        \"merge nonedge\": False\n",
    "    },\n",
    "    \"log\": {\n",
    "        \"log path\": \"Output/log.txt\",\n",
    "        \"Parquet path\": '',\n",
    "        \"RDD path\": '',\n",
    "        \"txt path\": \"Output/vertex.txt\",\n",
    "        \"Full Json path\": \"Output/full_graph.json\",\n",
    "        \"Reduced Json path\": \"Output/reduced_graph.json\",\n",
    "       \"debug\": True\n",
    "    }\n",
    "}"
   ]
  },
  {
   "cell_type": "code",
   "execution_count": 49,
   "metadata": {},
   "outputs": [],
   "source": [
    "def chDir( java_conf ):\n",
    "    \"\"\"Change to InfoFlow directory\"\"\"\n",
    "    if not os.path.exists( java_conf['dir'] ):\n",
    "        raise RuntimeError(\"Working directory {} does not exist\".format(java_conf['dir']))\n",
    "\n",
    "    os.chdir( java_conf['dir'] )\n",
    "\n",
    "    if os.getcwd() != java_conf['dir']: #and os.getcwd()+'/' != java_conf.infoflow_dir:\n",
    "        raise RuntimeError(\"Working directory {} does not exist\".format(java_conf['dir']))\n",
    "\n",
    "chDir(java_conf)"
   ]
  },
  {
   "cell_type": "code",
   "execution_count": 50,
   "metadata": {},
   "outputs": [
    {
     "name": "stdout",
     "output_type": "stream",
     "text": [
      "spark-submit infoflow_2.11-1.1.1.jar notebook.json\n"
     ]
    },
    {
     "data": {
      "text/plain": [
       "0"
      ]
     },
     "execution_count": 50,
     "metadata": {},
     "output_type": "execute_result"
    }
   ],
   "source": [
    "def runInfoFlow( java_conf, infoflow_config ):\n",
    "    \"\"\"Set up config file and runs InfoFlow\"\"\"\n",
    "\n",
    "    infoflow_config_string = json.dumps( infoflow_config, indent=2 )\n",
    "    notebook_json = \"notebook.json\"\n",
    "    with open(notebook_json,\"w\") as config_handle:\n",
    "        config_handle.write(infoflow_config_string)\n",
    "\n",
    "    jar = \"{}_{}-{}.jar\".format( java_conf['jar_name'], java_conf['scala_version'], java_conf['infoflow_version'] )\n",
    "\n",
    "    print(\"spark-submit {} {}\".format(jar, \"notebook.json\" ))\n",
    "    return os.system(\"spark-submit {} {}\".format(jar, \"notebook.json\" ))        \n",
    "\n",
    "infoflow_config['Community Detection']['name'] = 'InfoMap'\n",
    "runInfoFlow( java_conf, infoflow_config )"
   ]
  },
  {
   "cell_type": "code",
   "execution_count": 37,
   "metadata": {},
   "outputs": [],
   "source": [
    "def graph_name_idx( graph_name, idx ):\n",
    "    \"\"\"define this function to parse graph indices\"\"\"\n",
    "    name, ext = graph_name.split('.')\n",
    "    return \"{}{}.{}\".format( name, idx, ext )"
   ]
  },
  {
   "cell_type": "code",
   "execution_count": 38,
   "metadata": {},
   "outputs": [],
   "source": [
    "def plotGraph( graph_name, idx ):\n",
    "    \"\"\"Plot the (idx)th graph (stored in Json format)\"\"\"\n",
    "    with open( graph_name_idx( graph_name, idx ) ) as graphHandle:\n",
    "        graphJS = json.load( graphHandle )\n",
    "    graphData = nx.readwrite.json_graph.node_link_graph( graphJS, directed=True )\n",
    "\n",
    "    custom_color_map = plt.get_cmap('tab20')\n",
    "\n",
    "    sub_nodes = []\n",
    "    sub_nodes_size = []\n",
    "    sub_nodes_color = []\n",
    "    for i in range( len(graphJS['nodes']) ):\n",
    "        if( float(graphJS['nodes'][i]['id']) > 0 ):\n",
    "            sub_nodes.append( graphJS['nodes'][i]['id'] )\n",
    "            sub_nodes_size.append(float( graphJS['nodes'][i]['size'] ) *3000)\n",
    "            sub_nodes_color.append( custom_color_map( \\\n",
    "                float(int(graphJS['nodes'][i]['group'])%11)/11 ) )\n",
    "\n",
    "    filteredGraph = graphData.subgraph( sub_nodes )\n",
    "\n",
    "    plt.figure( figsize=[20,10], clear=True )\n",
    "    nx.draw_networkx_nodes( filteredGraph, pos=nx.spectral_layout(filteredGraph), nodelist=filteredGraph.nodes, \\\n",
    "                           node_size=sub_nodes_size, \\\n",
    "                           alpha=0.5, node_color=sub_nodes_color )\n",
    "    nx.draw_networkx_labels( filteredGraph, pos=nx.spectral_layout(filteredGraph) )\n",
    "    nx.draw_networkx_edges( filteredGraph, pos=nx.spectral_layout(filteredGraph), edgelist=filteredGraph.edges, alpha=0.2 )\n",
    "    plt.xticks([])\n",
    "    plt.yticks([])"
   ]
  },
  {
   "cell_type": "markdown",
   "metadata": {},
   "source": [
    "## Now look at the initial, full graph with 25 nodes"
   ]
  },
  {
   "cell_type": "code",
   "execution_count": 51,
   "metadata": {},
   "outputs": [
    {
     "data": {
      "image/png": "[encoded data removed]",
      "text/plain": [
       "<Figure size 1440x720 with 1 Axes>"
      ]
     },
     "metadata": {},
     "output_type": "display_data"
    }
   ],
   "source": [
    "plotGraph( infoflow_config['log'][\"Full Json path\"], 0 )"
   ]
  },
  {
   "cell_type": "markdown",
   "metadata": {},
   "source": [
    "InfoMap is a greedy algorithm where we try to minimize entropy by forming communities. More concretely, in each iteration, we merge the pair of communities that would offer the greatest reduction in entropy; the algorithm terminates when no such pairs exist.\n",
    "\n",
    "In this concrete example, in the first iteration, we merge nodes 23 and 24; observe that their colours are now the same, indicating they are in the same community"
   ]
  },
  {
   "cell_type": "code",
   "execution_count": 52,
   "metadata": {},
   "outputs": [
    {
     "ename": "FileNotFoundError",
     "evalue": "[Errno 2] No such file or directory: 'Output/full_graph1.json'",
     "output_type": "error",
     "traceback": [
      "\u001b[0;31m---------------------------------------------------------------------------\u001b[0m",
      "\u001b[0;31mFileNotFoundError\u001b[0m                         Traceback (most recent call last)",
      "\u001b[0;32m<ipython-input-52-c96e7a66638f>\u001b[0m in \u001b[0;36m<module>\u001b[0;34m\u001b[0m\n\u001b[0;32m----> 1\u001b[0;31m \u001b[0mplotGraph\u001b[0m\u001b[0;34m(\u001b[0m \u001b[0minfoflow_config\u001b[0m\u001b[0;34m[\u001b[0m\u001b[0;34m'log'\u001b[0m\u001b[0;34m]\u001b[0m\u001b[0;34m[\u001b[0m\u001b[0;34m\"Full Json path\"\u001b[0m\u001b[0;34m]\u001b[0m\u001b[0;34m,\u001b[0m \u001b[0;36m1\u001b[0m \u001b[0;34m)\u001b[0m\u001b[0;34m\u001b[0m\u001b[0m\n\u001b[0m",
      "\u001b[0;32m<ipython-input-38-4b167a3f390b>\u001b[0m in \u001b[0;36mplotGraph\u001b[0;34m(graph_name, idx)\u001b[0m\n\u001b[1;32m      1\u001b[0m \u001b[0;32mdef\u001b[0m \u001b[0mplotGraph\u001b[0m\u001b[0;34m(\u001b[0m \u001b[0mgraph_name\u001b[0m\u001b[0;34m,\u001b[0m \u001b[0midx\u001b[0m \u001b[0;34m)\u001b[0m\u001b[0;34m:\u001b[0m\u001b[0;34m\u001b[0m\u001b[0m\n\u001b[1;32m      2\u001b[0m     \u001b[0;34m\"\"\"Plot the (idx)th graph (stored in Json format)\"\"\"\u001b[0m\u001b[0;34m\u001b[0m\u001b[0m\n\u001b[0;32m----> 3\u001b[0;31m     \u001b[0;32mwith\u001b[0m \u001b[0mopen\u001b[0m\u001b[0;34m(\u001b[0m \u001b[0mgraph_name_idx\u001b[0m\u001b[0;34m(\u001b[0m \u001b[0mgraph_name\u001b[0m\u001b[0;34m,\u001b[0m \u001b[0midx\u001b[0m \u001b[0;34m)\u001b[0m \u001b[0;34m)\u001b[0m \u001b[0;32mas\u001b[0m \u001b[0mgraphHandle\u001b[0m\u001b[0;34m:\u001b[0m\u001b[0;34m\u001b[0m\u001b[0m\n\u001b[0m\u001b[1;32m      4\u001b[0m         \u001b[0mgraphJS\u001b[0m \u001b[0;34m=\u001b[0m \u001b[0mjson\u001b[0m\u001b[0;34m.\u001b[0m\u001b[0mload\u001b[0m\u001b[0;34m(\u001b[0m \u001b[0mgraphHandle\u001b[0m \u001b[0;34m)\u001b[0m\u001b[0;34m\u001b[0m\u001b[0m\n\u001b[1;32m      5\u001b[0m     \u001b[0mgraphData\u001b[0m \u001b[0;34m=\u001b[0m \u001b[0mnx\u001b[0m\u001b[0;34m.\u001b[0m\u001b[0mreadwrite\u001b[0m\u001b[0;34m.\u001b[0m\u001b[0mjson_graph\u001b[0m\u001b[0;34m.\u001b[0m\u001b[0mnode_link_graph\u001b[0m\u001b[0;34m(\u001b[0m \u001b[0mgraphJS\u001b[0m\u001b[0;34m,\u001b[0m \u001b[0mdirected\u001b[0m\u001b[0;34m=\u001b[0m\u001b[0;32mTrue\u001b[0m \u001b[0;34m)\u001b[0m\u001b[0;34m\u001b[0m\u001b[0m\n",
      "\u001b[0;31mFileNotFoundError\u001b[0m: [Errno 2] No such file or directory: 'Output/full_graph1.json'"
     ]
    }
   ],
   "source": [
    "plotGraph( infoflow_config['log'][\"Full Json path\"], 1 )"
   ]
  },
  {
   "cell_type": "markdown",
   "metadata": {},
   "source": [
    "Now see the rest of InfoMap iterations, where within each iteration, a pair of communities merge; each community is shown with the same colour; in the end there are four communities left, not bad"
   ]
  },
  {
   "cell_type": "code",
   "execution_count": 32,
   "metadata": {
    "scrolled": false
   },
   "outputs": [
    {
     "ename": "FileNotFoundError",
     "evalue": "[Errno 2] No such file or directory: 'Output/full_graph2.json'",
     "output_type": "error",
     "traceback": [
      "\u001b[0;31m---------------------------------------------------------------------------\u001b[0m",
      "\u001b[0;31mFileNotFoundError\u001b[0m                         Traceback (most recent call last)",
      "\u001b[0;32m<ipython-input-32-cde3280e016b>\u001b[0m in \u001b[0;36m<module>\u001b[0;34m\u001b[0m\n\u001b[1;32m      1\u001b[0m \u001b[0;32mfor\u001b[0m \u001b[0mi\u001b[0m \u001b[0;32min\u001b[0m \u001b[0mrange\u001b[0m\u001b[0;34m(\u001b[0m\u001b[0;36m2\u001b[0m\u001b[0;34m,\u001b[0m\u001b[0;36m22\u001b[0m\u001b[0;34m)\u001b[0m\u001b[0;34m:\u001b[0m\u001b[0;34m\u001b[0m\u001b[0m\n\u001b[0;32m----> 2\u001b[0;31m     \u001b[0mplotGraph\u001b[0m\u001b[0;34m(\u001b[0m \u001b[0minfoflow_config\u001b[0m\u001b[0;34m[\u001b[0m\u001b[0;34m'log'\u001b[0m\u001b[0;34m]\u001b[0m\u001b[0;34m[\u001b[0m\u001b[0;34m\"Full Json path\"\u001b[0m\u001b[0;34m]\u001b[0m\u001b[0;34m,\u001b[0m \u001b[0mi\u001b[0m \u001b[0;34m)\u001b[0m\u001b[0;34m\u001b[0m\u001b[0m\n\u001b[0m",
      "\u001b[0;32m<ipython-input-27-4b167a3f390b>\u001b[0m in \u001b[0;36mplotGraph\u001b[0;34m(graph_name, idx)\u001b[0m\n\u001b[1;32m      1\u001b[0m \u001b[0;32mdef\u001b[0m \u001b[0mplotGraph\u001b[0m\u001b[0;34m(\u001b[0m \u001b[0mgraph_name\u001b[0m\u001b[0;34m,\u001b[0m \u001b[0midx\u001b[0m \u001b[0;34m)\u001b[0m\u001b[0;34m:\u001b[0m\u001b[0;34m\u001b[0m\u001b[0m\n\u001b[1;32m      2\u001b[0m     \u001b[0;34m\"\"\"Plot the (idx)th graph (stored in Json format)\"\"\"\u001b[0m\u001b[0;34m\u001b[0m\u001b[0m\n\u001b[0;32m----> 3\u001b[0;31m     \u001b[0;32mwith\u001b[0m \u001b[0mopen\u001b[0m\u001b[0;34m(\u001b[0m \u001b[0mgraph_name_idx\u001b[0m\u001b[0;34m(\u001b[0m \u001b[0mgraph_name\u001b[0m\u001b[0;34m,\u001b[0m \u001b[0midx\u001b[0m \u001b[0;34m)\u001b[0m \u001b[0;34m)\u001b[0m \u001b[0;32mas\u001b[0m \u001b[0mgraphHandle\u001b[0m\u001b[0;34m:\u001b[0m\u001b[0;34m\u001b[0m\u001b[0m\n\u001b[0m\u001b[1;32m      4\u001b[0m         \u001b[0mgraphJS\u001b[0m \u001b[0;34m=\u001b[0m \u001b[0mjson\u001b[0m\u001b[0;34m.\u001b[0m\u001b[0mload\u001b[0m\u001b[0;34m(\u001b[0m \u001b[0mgraphHandle\u001b[0m \u001b[0;34m)\u001b[0m\u001b[0;34m\u001b[0m\u001b[0m\n\u001b[1;32m      5\u001b[0m     \u001b[0mgraphData\u001b[0m \u001b[0;34m=\u001b[0m \u001b[0mnx\u001b[0m\u001b[0;34m.\u001b[0m\u001b[0mreadwrite\u001b[0m\u001b[0;34m.\u001b[0m\u001b[0mjson_graph\u001b[0m\u001b[0;34m.\u001b[0m\u001b[0mnode_link_graph\u001b[0m\u001b[0;34m(\u001b[0m \u001b[0mgraphJS\u001b[0m\u001b[0;34m,\u001b[0m \u001b[0mdirected\u001b[0m\u001b[0;34m=\u001b[0m\u001b[0;32mTrue\u001b[0m \u001b[0;34m)\u001b[0m\u001b[0;34m\u001b[0m\u001b[0m\n",
      "\u001b[0;31mFileNotFoundError\u001b[0m: [Errno 2] No such file or directory: 'Output/full_graph2.json'"
     ]
    }
   ],
   "source": [
    "for i in range(2,22):\n",
    "    plotGraph( infoflow_config['log'][\"Full Json path\"], i )"
   ]
  },
  {
   "cell_type": "markdown",
   "metadata": {},
   "source": [
    "### So in the end, it took 21 merges to merge a graph of 25 nodes into 4 communities. The complexity is linear to the number of nodes"
   ]
  },
  {
   "cell_type": "markdown",
   "metadata": {},
   "source": [
    "Can we do better? In InfoFlow, in each iteration, rather than merging a pair of communities, each community seeks to merge with another, and the weakly connected components of these communities all merge into one. If we postulate that during each iteration, a roughly constant number $k$ of modules merge into one, then the number of iterations would be ${log}_kn$, $n$ being the number of nodes. Thus, the time complexity would be logarithmic to the number of nodes, presenting a substantial performance increase"
   ]
  },
  {
   "cell_type": "markdown",
   "metadata": {},
   "source": [
    "## Now, set up and run InfoFlow"
   ]
  },
  {
   "cell_type": "code",
   "execution_count": 39,
   "metadata": {},
   "outputs": [
    {
     "name": "stdout",
     "output_type": "stream",
     "text": [
      "spark-submit infoflow_2.11-1.1.1.jar notebook.json\n"
     ]
    },
    {
     "data": {
      "text/plain": [
       "256"
      ]
     },
     "execution_count": 39,
     "metadata": {},
     "output_type": "execute_result"
    }
   ],
   "source": [
    "def runInfoFlow( java_conf, infoflow_config ):\n",
    "    \"\"\"Set up config file and runs InfoFlow\"\"\"\n",
    "\n",
    "    infoflow_config_string = json.dumps( infoflow_config, indent=2 )\n",
    "    notebook_json = \"notebook.json\"\n",
    "    with open(notebook_json,\"w\") as config_handle:\n",
    "        config_handle.write(infoflow_config_string)\n",
    "\n",
    "    jar = \"{}_{}-{}.jar\".format( java_conf['jar_name'], java_conf['scala_version'], java_conf['infoflow_version'] )\n",
    "\n",
    "    print(\"spark-submit {} {}\".format(jar, \"notebook.json\" ))\n",
    "    return os.system(\"spark-submit {} {}\".format(jar, \"notebook.json\" ))\n",
    "\n",
    "# !spark-submit target/scala-{java_conf['scala_version']}/{jar} notebook.json \n",
    "infoflow_config['Community Detection']['name'] = 'InfoFlow'\n",
    "runInfoFlow( java_conf, infoflow_config )"
   ]
  },
  {
   "cell_type": "markdown",
   "metadata": {},
   "source": [
    "## See? Only 2 merges required to arrive at identical result!"
   ]
  },
  {
   "cell_type": "code",
   "execution_count": 44,
   "metadata": {
    "scrolled": false
   },
   "outputs": [
    {
     "ename": "FileNotFoundError",
     "evalue": "[Errno 2] No such file or directory: 'Output/full_graph0.json'",
     "output_type": "error",
     "traceback": [
      "\u001b[0;31m---------------------------------------------------------------------------\u001b[0m",
      "\u001b[0;31mFileNotFoundError\u001b[0m                         Traceback (most recent call last)",
      "\u001b[0;32m<ipython-input-44-be3b5d8e8f05>\u001b[0m in \u001b[0;36m<module>\u001b[0;34m\u001b[0m\n\u001b[1;32m      1\u001b[0m \u001b[0;32mfor\u001b[0m \u001b[0mi\u001b[0m \u001b[0;32min\u001b[0m \u001b[0mrange\u001b[0m\u001b[0;34m(\u001b[0m\u001b[0;36m0\u001b[0m\u001b[0;34m,\u001b[0m\u001b[0;36m3\u001b[0m\u001b[0;34m)\u001b[0m\u001b[0;34m:\u001b[0m\u001b[0;34m\u001b[0m\u001b[0m\n\u001b[0;32m----> 2\u001b[0;31m     \u001b[0mplotGraph\u001b[0m\u001b[0;34m(\u001b[0m \u001b[0minfoflow_config\u001b[0m\u001b[0;34m[\u001b[0m\u001b[0;34m'log'\u001b[0m\u001b[0;34m]\u001b[0m\u001b[0;34m[\u001b[0m\u001b[0;34m\"Full Json path\"\u001b[0m\u001b[0;34m]\u001b[0m\u001b[0;34m,\u001b[0m \u001b[0mi\u001b[0m \u001b[0;34m)\u001b[0m\u001b[0;34m\u001b[0m\u001b[0m\n\u001b[0m",
      "\u001b[0;32m<ipython-input-38-4b167a3f390b>\u001b[0m in \u001b[0;36mplotGraph\u001b[0;34m(graph_name, idx)\u001b[0m\n\u001b[1;32m      1\u001b[0m \u001b[0;32mdef\u001b[0m \u001b[0mplotGraph\u001b[0m\u001b[0;34m(\u001b[0m \u001b[0mgraph_name\u001b[0m\u001b[0;34m,\u001b[0m \u001b[0midx\u001b[0m \u001b[0;34m)\u001b[0m\u001b[0;34m:\u001b[0m\u001b[0;34m\u001b[0m\u001b[0m\n\u001b[1;32m      2\u001b[0m     \u001b[0;34m\"\"\"Plot the (idx)th graph (stored in Json format)\"\"\"\u001b[0m\u001b[0;34m\u001b[0m\u001b[0m\n\u001b[0;32m----> 3\u001b[0;31m     \u001b[0;32mwith\u001b[0m \u001b[0mopen\u001b[0m\u001b[0;34m(\u001b[0m \u001b[0mgraph_name_idx\u001b[0m\u001b[0;34m(\u001b[0m \u001b[0mgraph_name\u001b[0m\u001b[0;34m,\u001b[0m \u001b[0midx\u001b[0m \u001b[0;34m)\u001b[0m \u001b[0;34m)\u001b[0m \u001b[0;32mas\u001b[0m \u001b[0mgraphHandle\u001b[0m\u001b[0;34m:\u001b[0m\u001b[0;34m\u001b[0m\u001b[0m\n\u001b[0m\u001b[1;32m      4\u001b[0m         \u001b[0mgraphJS\u001b[0m \u001b[0;34m=\u001b[0m \u001b[0mjson\u001b[0m\u001b[0;34m.\u001b[0m\u001b[0mload\u001b[0m\u001b[0;34m(\u001b[0m \u001b[0mgraphHandle\u001b[0m \u001b[0;34m)\u001b[0m\u001b[0;34m\u001b[0m\u001b[0m\n\u001b[1;32m      5\u001b[0m     \u001b[0mgraphData\u001b[0m \u001b[0;34m=\u001b[0m \u001b[0mnx\u001b[0m\u001b[0;34m.\u001b[0m\u001b[0mreadwrite\u001b[0m\u001b[0;34m.\u001b[0m\u001b[0mjson_graph\u001b[0m\u001b[0;34m.\u001b[0m\u001b[0mnode_link_graph\u001b[0m\u001b[0;34m(\u001b[0m \u001b[0mgraphJS\u001b[0m\u001b[0;34m,\u001b[0m \u001b[0mdirected\u001b[0m\u001b[0;34m=\u001b[0m\u001b[0;32mTrue\u001b[0m \u001b[0;34m)\u001b[0m\u001b[0;34m\u001b[0m\u001b[0m\n",
      "\u001b[0;31mFileNotFoundError\u001b[0m: [Errno 2] No such file or directory: 'Output/full_graph0.json'"
     ]
    }
   ],
   "source": [
    "for i in range(0,3):\n",
    "    plotGraph( infoflow_config['log'][\"Full Json path\"], i )"
   ]
  },
  {
   "cell_type": "markdown",
   "metadata": {},
   "source": [
    "## So how is the computation done?\n",
    "\n",
    "The InfoMap algorithm is about minimizing the entropy, which we merge modules greedily as visualized above. Importantly, the entropy calculation can be shown to depend two terms: a constant term that does not depend on modular partitioning, and one that depends only on the graph's modular properties. Thus, after calculating and remembering the constant term, for the purpose of entropy calculation, (also, if we only care about a reduced graph where each node is a community) we can forget about the original nodes. This allows economic adaptation of the variables into Spark RDD, where each element of the RDD contains the modular properties of one module.\n",
    "\n",
    "For the complete mathematical derivation, see `InfoFlow Maths.pdf`."
   ]
  }
 ],
 "metadata": {
  "kernelspec": {
   "display_name": "graph_env",
   "language": "python",
   "name": "graph_env"
  },
  "language_info": {
   "codemirror_mode": {
    "name": "ipython",
    "version": 3
   },
   "file_extension": ".py",
   "mimetype": "text/x-python",
   "name": "python",
   "nbconvert_exporter": "python",
   "pygments_lexer": "ipython3",
   "version": "3.6.6"
  }
 },
 "nbformat": 4,
 "nbformat_minor": 2
}
