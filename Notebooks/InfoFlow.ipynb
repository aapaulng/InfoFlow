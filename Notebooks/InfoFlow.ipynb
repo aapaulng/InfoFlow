{
 "cells": [
  {
   "cell_type": "markdown",
   "metadata": {},
   "source": [
    "# InfoFlow"
   ]
  },
  {
   "cell_type": "markdown",
   "metadata": {},
   "source": [
    "This notebook performs InfoFlow community detection, and performs graph analysis on the resultant communities"
   ]
  },
  {
   "cell_type": "markdown",
   "metadata": {},
   "source": [
    "## Below are configuration parameters"
   ]
  },
  {
   "cell_type": "code",
   "execution_count": 1,
   "metadata": {},
   "outputs": [],
   "source": [
    "class JavaConf:\n",
    "    def __init__(self):\n",
    "        self.dir = r'/home/felix/Work/Community Detection/InfoFlow'\n",
    "        self.jar_name = \"infoflow\"\n",
    "        self.scala_version = \"2.11\"\n",
    "        self.infoflow_version = \"0.2.6\"\n",
    "java_conf = JavaConf()"
   ]
  },
  {
   "cell_type": "code",
   "execution_count": 2,
   "metadata": {},
   "outputs": [],
   "source": [
    "class Config:\n",
    "    def __init__(self):\n",
    "        self.graph = \"Nets/rosvall.net\"\n",
    "\n",
    "        self.master = \"local[*]\"\n",
    "        self.num_executors = \"1\"\n",
    "        self.executor_cores = \"8\"\n",
    "        self.driver_memory = \"10G\"\n",
    "        self.executor_memory = \"2G\"\n",
    "\n",
    "        self.pagerank_tele = 0.15\n",
    "        self.pagerank_error_threshold_factor = 20\n",
    "\n",
    "        self.algorithm_name = \"InfoFlow\"\n",
    "        self.merge_direction = \"asymmetric\"\n",
    "        self.merge_nonedge = False\n",
    "\n",
    "        self.log_path = \"Output/log.txt\"\n",
    "        self.parquet_path = \"\"\n",
    "        self.rdd_path = \"\"\n",
    "        self.txt_path = \"Output/vertex.txt\"\n",
    "        self.full_json_path = \"\"\n",
    "        self.reduced_json_path = \"Output/graph.json\"\n",
    "        self.debug = \"false\"\n",
    "config = Config()"
   ]
  },
  {
   "cell_type": "markdown",
   "metadata": {},
   "source": [
    "## Set up environment and run InfoFlow"
   ]
  },
  {
   "cell_type": "code",
   "execution_count": 3,
   "metadata": {},
   "outputs": [],
   "source": [
    "import os\n",
    "import json\n",
    "import pandas as pd\n",
    "import numpy as np\n",
    "import matplotlib.pyplot as plt\n",
    "import networkx as nx\n",
    "from networkx.readwrite import json_graph\n",
    "from ipywidgets import widgets, interact"
   ]
  },
  {
   "cell_type": "code",
   "execution_count": 4,
   "metadata": {},
   "outputs": [],
   "source": [
    "def chDir( java_conf ):\n",
    "    if not os.path.exists( java_conf.dir ):\n",
    "        raise RuntimeError(\"Working directory {} does not exist\".format(java_conf.dir))\n",
    "\n",
    "    os.chdir( java_conf.dir )\n",
    "\n",
    "    if os.getcwd() != java_conf.dir and os.getcwd()+'/' != java_conf.infoflow_dir:\n",
    "        raise RuntimeError(\"Working directory {} does not exist\".format(java_conf.dir))\n",
    "chDir(java_conf)"
   ]
  },
  {
   "cell_type": "code",
   "execution_count": 5,
   "metadata": {},
   "outputs": [
    {
     "data": {
      "text/plain": [
       "0"
      ]
     },
     "execution_count": 5,
     "metadata": {},
     "output_type": "execute_result"
    }
   ],
   "source": [
    "def runInfoFlow( java_conf, config ):\n",
    "    \"\"\"Set up config file and runs InfoFlow\"\"\"\n",
    "\n",
    "    infoflow_config = {\n",
    "      \"Graph\": config.graph,\n",
    "      \"spark configs\": {\n",
    "          \"Master\": config.master,\n",
    "          \"num executors\": config.num_executors,\n",
    "          \"executor cores\": config.executor_cores,\n",
    "          \"driver memory\": config.driver_memory,\n",
    "          \"executor memory\": config.executor_memory\n",
    "      },\n",
    "      \"PageRank\": {\n",
    "          \"tele\": config.pagerank_tele,\n",
    "          \"error threshold factor\": config.pagerank_error_threshold_factor\n",
    "      },\n",
    "      \"Community Detection\": {\n",
    "          \"name\": config.algorithm_name,\n",
    "          \"merge direction\": config.merge_direction,\n",
    "          \"merge nonedge\": config.merge_nonedge\n",
    "      },\n",
    "      \"log\": {\n",
    "        \"log path\": config.log_path,\n",
    "        \"Parquet path\": config.parquet_path,\n",
    "        \"RDD path\": config.rdd_path,\n",
    "        \"txt path\": config.txt_path,\n",
    "        \"Full Json path\": config.full_json_path,\n",
    "        \"Reduced Json path\": config.reduced_json_path,\n",
    "        \"debug\": config.debug\n",
    "      }\n",
    "    }\n",
    "    infoflow_config_string = json.dumps( infoflow_config, indent=2 )\n",
    "\n",
    "    notebook_json = \"notebook.json\"\n",
    "    with open(notebook_json,\"w\") as config_handle:\n",
    "        config_handle.write(infoflow_config_string)\n",
    "\n",
    "    jar = \"{}_{}-{}.jar\".format( java_conf.jar_name, java_conf.scala_version, java_conf.infoflow_version )\n",
    "    return os.system(\"spark-submit target/scala-{}/{} {}\".format( java_conf.scala_version, jar, \"notebook.json\" ))\n",
    "\n",
    "runInfoFlow( java_conf, config )"
   ]
  },
  {
   "cell_type": "markdown",
   "metadata": {},
   "source": [
    "## Displays and analyses results"
   ]
  },
  {
   "cell_type": "code",
   "execution_count": 6,
   "metadata": {},
   "outputs": [
    {
     "name": "stdout",
     "output_type": "stream",
     "text": [
      "Tue Jan 29 00:37:40 EST 2019: Running InfoFlow, version: 0.2.6\r\n",
      "Tue Jan 29 00:37:40 EST 2019: Driver memory/Java heap size: 910 Mb\r\n",
      "Tue Jan 29 00:37:40 EST 2019: Spark version: 2.3.0\r\n",
      "Tue Jan 29 00:37:40 EST 2019: Spark configurations:\r\n",
      "Tue Jan 29 00:37:40 EST 2019: spark.executor.instances: 1\r\n",
      "Tue Jan 29 00:37:40 EST 2019: spark.executor.memory: 2G\r\n",
      "Tue Jan 29 00:37:40 EST 2019: spark.master: local[*]\r\n",
      "Tue Jan 29 00:37:40 EST 2019: spark.submit.deployMode: client\r\n",
      "Tue Jan 29 00:37:40 EST 2019: spark.driver.memory: 10G\r\n",
      "Tue Jan 29 00:37:40 EST 2019: spark.app.name: InfoFlow\r\n",
      "Tue Jan 29 00:37:40 EST 2019: spark.jars: file:/home/felix/Work/Community%20Detection/InfoFlow/target/scala-2.11/infoflow_2.11-0.2.6.jar\r\n",
      "Tue Jan 29 00:37:40 EST 2019: spark.executor.cores: 8\r\n",
      "Tue Jan 29 00:37:40 EST 2019: Reading Nets/rosvall.net\r\n",
      "Tue Jan 29 00:37:40 EST 2019: Finished reading from disk; parallelizing...\r\n",
      "Tue Jan 29 00:37:41 EST 2019: Read in network with 25 nodes and 84 edges\r\n",
      "Tue Jan 29 00:37:41 EST 2019: Initializing partitioning\r\n",
      "Tue Jan 29 00:37:41 EST 2019: Calculating PageRank\r\n",
      "Tue Jan 29 00:37:41 EST 2019: PageRank teleportation probablity 0.15000000000000002\r\n",
      "Tue Jan 29 00:37:41 EST 2019: PageRank error threshold factor 20.0\r\n",
      "Tue Jan 29 00:37:41 EST 2019: Calculating PageRank, iteration 0\r\n",
      "Tue Jan 29 00:37:42 EST 2019: Calculating PageRank, iteration 1\r\n",
      "Tue Jan 29 00:37:43 EST 2019: Calculating PageRank, iteration 2\r\n",
      "Tue Jan 29 00:37:43 EST 2019: Calculating PageRank, iteration 3\r\n",
      "Tue Jan 29 00:37:43 EST 2019: Calculating PageRank, iteration 4\r\n",
      "Tue Jan 29 00:37:44 EST 2019: Calculating PageRank, iteration 5\r\n",
      "Tue Jan 29 00:37:44 EST 2019: Calculating PageRank, iteration 6\r\n",
      "Tue Jan 29 00:37:44 EST 2019: Calculating PageRank, iteration 7\r\n",
      "Tue Jan 29 00:37:45 EST 2019: Finished initialization calculations\r\n",
      "Tue Jan 29 00:37:45 EST 2019: Using InfoFlow algorithm\r\n",
      "Tue Jan 29 00:37:45 EST 2019: modules canNOT seek merge with opposite edge modules\r\n",
      "Tue Jan 29 00:37:45 EST 2019: does NOT allow for non-edge merging\r\n",
      "Tue Jan 29 00:37:45 EST 2019: State 0: code length 6.543183139971481\r\n",
      "Tue Jan 29 00:37:46 EST 2019: Merge 1: merging 25 modules into 9 modules\r\n",
      "Tue Jan 29 00:37:46 EST 2019: State 1: code length 4.328134399790259\r\n",
      "Tue Jan 29 00:37:47 EST 2019: Merge 2: merging 9 modules into 4 modules\r\n",
      "Tue Jan 29 00:37:47 EST 2019: State 2: code length 3.514030010208006\r\n",
      "Tue Jan 29 00:37:47 EST 2019: Merging terminates after 2 merges\r\n",
      "Tue Jan 29 00:37:47 EST 2019: Save final graph\r\n",
      "Tue Jan 29 00:37:47 EST 2019: with 4 modules and 8 connections\r\n",
      "Tue Jan 29 00:37:47 EST 2019: InfoFlow Terminate\r\n"
     ]
    }
   ],
   "source": [
    "!cat {config.log_path}"
   ]
  },
  {
   "cell_type": "code",
   "execution_count": 7,
   "metadata": {},
   "outputs": [
    {
     "data": {
      "application/vnd.jupyter.widget-view+json": {
       "model_id": "61c33764fd224237b268fe043da3ee6d",
       "version_major": 2,
       "version_minor": 0
      },
      "text/plain": [
       "interactive(children=(Text(value='1e-3', description='threshold_size'), Output()), _dom_classes=('widget-inter…"
      ]
     },
     "metadata": {},
     "output_type": "display_data"
    }
   ],
   "source": [
    "@interact( threshold_size=\"1e-3\" )\n",
    "def plotGraph( threshold_size ):\n",
    "    \"\"\"\n",
    "    Plots the InfoFlow output graph, where each node is a module\n",
    "    The node size indicates the ergodic frequency of the module\n",
    "\n",
    "    :param str threshold_size: minimum ergodic frequency for the module to be shown\n",
    "\n",
    "    \"\"\"\n",
    "    with open( config.reduced_json_path ) as graphHandle:\n",
    "        graphJS = json.load( graphHandle )\n",
    "    graphData = nx.readwrite.json_graph.node_link_graph( graphJS, directed=True )\n",
    "\n",
    "    custom_color_map = plt.get_cmap('Spectral')\n",
    "\n",
    "    sub_nodes = []\n",
    "    sub_nodes_size = []\n",
    "    sub_nodes_color = []\n",
    "    for i in range( len(graphJS['nodes']) ):\n",
    "        if( float(graphJS['nodes'][i]['size']) >= float(threshold_size) ):\n",
    "            sub_nodes.append( graphJS['nodes'][i]['name'] )\n",
    "            sub_nodes_size.append(float( graphJS['nodes'][i]['size'] ) *30000)\n",
    "            sub_nodes_color.append( len(sub_nodes_color) )\n",
    "\n",
    "    map( lambda x: custom_color_map( float(x)/float(len(sub_nodes_color)) ), sub_nodes_color )\n",
    "    \n",
    "    filteredGraph = graphData.subgraph( sub_nodes )\n",
    "\n",
    "    plt.figure( figsize=[20,10], clear=True )\n",
    "    nx.draw_networkx_nodes( filteredGraph, pos=nx.circular_layout(filteredGraph), nodelist=filteredGraph.nodes, \\\n",
    "                           node_size=sub_nodes_size, \\\n",
    "                           alpha=0.5, node_color=sub_nodes_color )\n",
    "    nx.draw_networkx_labels( filteredGraph, pos=nx.circular_layout(filteredGraph), nodelist=filteredGraph.nodes )\n",
    "    nx.draw_networkx_edges( filteredGraph, pos=nx.circular_layout(filteredGraph), edgelist=filteredGraph.edges, alpha=0.2 )\n",
    "    plt.xticks([])\n",
    "    plt.yticks([])"
   ]
  },
  {
   "cell_type": "code",
   "execution_count": 8,
   "metadata": {},
   "outputs": [
    {
     "data": {
      "image/png": "[encoded data removed]",
      "text/plain": [
       "<Figure size 1080x360 with 2 Axes>"
      ]
     },
     "metadata": {
      "needs_background": "light"
     },
     "output_type": "display_data"
    }
   ],
   "source": [
    "def plotModuleNodeCountHist( config ):\n",
    "    \"\"\"Plots the histogram of the node count within each module\"\"\"\n",
    "    # commented out implementation based off reading txt_path\n",
    "    #vertices = pd.read_csv( txt_path, delimiter = '|' )\n",
    "    #vertices.columns = vertices.columns.str.strip()\n",
    "\n",
    "    #vertices.drop('Name',axis=1) \\\n",
    "    #.groupby('Module', as_index=False).count() \\\n",
    "    #['Index'].hist()\n",
    "    #plt.title(\"Distribution of Node Count within each Module\")\n",
    "\n",
    "    with open( config.reduced_json_path) as graphHandle:\n",
    "        graphJS = json.load( graphHandle )\n",
    "    node_sizes = pd.io.json.json_normalize( graphJS['nodes'] )['count']\n",
    "    node_sizes = pd.to_numeric( node_sizes )\n",
    "\n",
    "    fig, (ax1,ax2) = plt.subplots( ncols=2, figsize=(15,5) )\n",
    "\n",
    "    node_sizes.hist(ax=ax1)\n",
    "    ax1.set_title(\"Distribution of Node Count within each Module\")\n",
    "\n",
    "    filtered_node_sizes = node_sizes[ node_sizes > 1 ]\n",
    "    filtered_node_sizes.hist(ax=ax2)\n",
    "    ax2.set_title(\"Distribution of Node Count within each Module (minus Singleton Modules)\")\n",
    "\n",
    "plotModuleNodeCountHist( config )"
   ]
  },
  {
   "cell_type": "code",
   "execution_count": 9,
   "metadata": {},
   "outputs": [
    {
     "data": {
      "image/png": "[encoded data removed]",
      "text/plain": [
       "<Figure size 1080x360 with 2 Axes>"
      ]
     },
     "metadata": {
      "needs_background": "light"
     },
     "output_type": "display_data"
    }
   ],
   "source": [
    "def plotModuleNodeProbHist( config ):\n",
    "    \"\"\"Plots the histogram of the module size, according to ergodic frequency\"\"\"\n",
    "    with open( config.reduced_json_path ) as graphHandle:\n",
    "        graphJS = json.load( graphHandle )\n",
    "    node_sizes = pd.io.json.json_normalize( graphJS['nodes'] )['size']\n",
    "    node_sizes = pd.to_numeric( node_sizes )\n",
    "\n",
    "    fig, (ax1,ax2) = plt.subplots( ncols=2, figsize=(15,5) )\n",
    "\n",
    "    node_sizes.hist(ax=ax1)\n",
    "    ax1.set_title(\"Distribution of Ergodic Frequency for each Module\")\n",
    "\n",
    "    number_of_nodes = node_sizes.count()\n",
    "    filtered_node_sizes = node_sizes[ node_sizes >= 1.0/float(number_of_nodes) ]\n",
    "    filtered_node_sizes.hist(ax=ax2)\n",
    "    ax2.set_title(\"Distribution of Ergodic Frequency for each Module\\n(minus Modules with p<1/(number of nodes))\")\n",
    "\n",
    "plotModuleNodeProbHist( config)"
   ]
  },
  {
   "cell_type": "code",
   "execution_count": 10,
   "metadata": {},
   "outputs": [
    {
     "data": {
      "image/png": "[encoded data removed]",
      "text/plain": [
       "<Figure size 1080x360 with 2 Axes>"
      ]
     },
     "metadata": {
      "needs_background": "light"
     },
     "output_type": "display_data"
    }
   ],
   "source": [
    "def plotConnections( config ):\n",
    "    \"\"\"Plot the histogram of the number of connections per module\"\"\"\n",
    "    with open( config.reduced_json_path ) as graphHandle:\n",
    "        graphJS = json.load( graphHandle )\n",
    "    nodes = pd.io.json.json_normalize( graphJS['nodes'] )\n",
    "    links = pd.io.json.json_normalize( graphJS['links'] )\n",
    "\n",
    "    source_count = links.groupby('source', as_index=False).count()\n",
    "    target_count = links.groupby('target', as_index=False).count()\n",
    "\n",
    "    columns = source_count .merge ( target_count, how='outer', left_on='source', right_on='target' ) \\\n",
    "    .apply( lambda row: pd.Series([ row.source_x, row.value_x+row.value_y ]), axis=1 )\n",
    "    columns.columns = ['node','count']\n",
    "    columns = columns.drop( [0], axis=0 )\n",
    "\n",
    "    node_link_count = nodes .merge( columns, how='left', left_on='id', right_on='node' )[['id','count_y']] \\\n",
    "    .apply( lambda row: pd.Series([ row.id, row.count_y if not np.isnan(row.count_y) else 0 ]), axis=1 )\n",
    "    node_link_count.columns = ['node','count']\n",
    "    node_link_count.sort_values( by='node', ascending=False, inplace=True )\n",
    "\n",
    "    fig, (ax1,ax2) = plt.subplots( ncols=2, figsize=(15,5) )\n",
    "\n",
    "    node_link_count.hist(ax=ax1)\n",
    "    ax1.set_title(\"Distribution of In+Out-going Links, for each Modude\")\n",
    "\n",
    "    filtered_node_link_count = node_link_count['count'][ node_link_count['count'] > 0 ]\n",
    "    filtered_node_link_count.hist(ax=ax2)\n",
    "    ax2.set_title(\"Distribution of In+Out-going Links, for each Modude\\n(minus Singleton Modules)\")\n",
    "\n",
    "plotConnections( config )"
   ]
  },
  {
   "cell_type": "code",
   "execution_count": null,
   "metadata": {},
   "outputs": [],
   "source": []
  }
 ],
 "metadata": {
  "kernelspec": {
   "display_name": "Python 3",
   "language": "python",
   "name": "python3"
  },
  "language_info": {
   "codemirror_mode": {
    "name": "ipython",
    "version": 3
   },
   "file_extension": ".py",
   "mimetype": "text/x-python",
   "name": "python",
   "nbconvert_exporter": "python",
   "pygments_lexer": "ipython3",
   "version": "3.7.2"
  }
 },
 "nbformat": 4,
 "nbformat_minor": 2
}
