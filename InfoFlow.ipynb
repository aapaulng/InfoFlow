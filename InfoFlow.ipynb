{
 "cells": [
  {
   "cell_type": "markdown",
   "metadata": {},
   "source": [
    "# InfoFlow"
   ]
  },
  {
   "cell_type": "markdown",
   "metadata": {},
   "source": [
    "This notebook performs InfoFlow community detection, and performs graph analysis on the resultant communities"
   ]
  },
  {
   "cell_type": "markdown",
   "metadata": {},
   "source": [
    "## Below are configuration parameters"
   ]
  },
  {
   "cell_type": "code",
   "execution_count": 1,
   "metadata": {},
   "outputs": [],
   "source": [
    "infoflow_dir = r'/home/felix/Work/Community Detection/InfoFlow'\n",
    "jar_name = \"infoflow\"\n",
    "scala_version = \"2.11\"\n",
    "infoflow_version = \"0.2.5\""
   ]
  },
  {
   "cell_type": "code",
   "execution_count": 2,
   "metadata": {},
   "outputs": [],
   "source": [
    "graph = \"Nets/data/science2004/science2004.net\"\n",
    "\n",
    "master = \"local[*]\"\n",
    "num_executors = \"1\"\n",
    "executor_cores = \"8\"\n",
    "driver_memory = \"60G\"\n",
    "executor_memory = \"60G\"\n",
    "\n",
    "algorithm = \"InfoFlow\"\n",
    "pagerank_tele = 0.15\n",
    "pagerank_error_threshold_factor = 20\n",
    "\n",
    "log_path = \"Output/log.txt\"\n",
    "parquet_path = \"\"\n",
    "rdd_path = \"\"\n",
    "txt_path = \"Output/vertex.txt\"\n",
    "full_json_path = \"\"\n",
    "reduced_json_path = \"Output/graph.json\"\n",
    "debug = \"false\""
   ]
  },
  {
   "cell_type": "markdown",
   "metadata": {},
   "source": [
    "## Set up environment and run InfoFlow"
   ]
  },
  {
   "cell_type": "code",
   "execution_count": 3,
   "metadata": {},
   "outputs": [],
   "source": [
    "import os\n",
    "import json\n",
    "import pandas as pd\n",
    "import numpy as np\n",
    "import matplotlib.pyplot as plt\n",
    "import networkx as nx\n",
    "from networkx.readwrite import json_graph\n",
    "from ipywidgets import widgets, interact"
   ]
  },
  {
   "cell_type": "code",
   "execution_count": 4,
   "metadata": {},
   "outputs": [],
   "source": [
    "if not os.path.exists(infoflow_dir):\n",
    "    raise RuntimeError(\"Working directory {} does not exist\".format(infoflow_dir))\n",
    "\n",
    "os.chdir(infoflow_dir)\n",
    "\n",
    "if os.getcwd() != infoflow_dir:\n",
    "    raise RuntimeError(\"Working directory {} does not exist\".format(infoflow_dir))"
   ]
  },
  {
   "cell_type": "code",
   "execution_count": 5,
   "metadata": {},
   "outputs": [
    {
     "name": "stdout",
     "output_type": "stream",
     "text": [
      "CPU times: user 2.96 ms, sys: 3.99 ms, total: 6.96 ms\n",
      "Wall time: 1min 57s\n"
     ]
    }
   ],
   "source": [
    "def runInfoFlow():\n",
    "    \"\"\"Set up config file and runs InfoFlow\"\"\"\n",
    "\n",
    "    infoflow_config = {\n",
    "      \"Graph\": graph,\n",
    "      \"spark configs\": {\n",
    "        \"Master\": master,\n",
    "        \"num executors\": num_executors,\n",
    "        \"executor cores\": executor_cores,\n",
    "        \"driver memory\": driver_memory,\n",
    "        \"executor memory\": executor_memory\n",
    "      },\n",
    "      \"Algorithm\": {\n",
    "        \"Community detection algorithm\": algorithm,\n",
    "        \"PageRank tele\": pagerank_tele,\n",
    "        \"PageRank error threshold factor\": pagerank_error_threshold_factor\n",
    "      },\n",
    "      \"log\": {\n",
    "        \"log path\": log_path,\n",
    "        \"Parquet path\": parquet_path,\n",
    "        \"RDD path\": rdd_path,\n",
    "        \"txt path\": txt_path,\n",
    "        \"Full Json path\": full_json_path,\n",
    "        \"Reduced Json path\": reduced_json_path,\n",
    "        \"debug\": debug\n",
    "      }\n",
    "    }\n",
    "    infoflow_config_string = json.dumps( infoflow_config, indent=2 )\n",
    "\n",
    "    notebook_json = \"notebook.json\"\n",
    "    with open(notebook_json,\"w\") as config_handle:\n",
    "        config_handle.write(infoflow_config_string)\n",
    "\n",
    "    jar = \"{}_{}-{}.jar\".format( jar_name, scala_version, infoflow_version )\n",
    "    %time os.system(\"spark-submit target/scala-{}/{} {}\".format( scala_version, jar, \"notebook.json\" ))\n",
    "\n",
    "runInfoFlow()"
   ]
  },
  {
   "cell_type": "markdown",
   "metadata": {},
   "source": [
    "## Displays and analyses results"
   ]
  },
  {
   "cell_type": "code",
   "execution_count": 6,
   "metadata": {},
   "outputs": [
    {
     "name": "stdout",
     "output_type": "stream",
     "text": [
      "Wed Jan 16 22:00:53 EST 2019: Running InfoFlow, version: 0.2.4\r\n",
      "Wed Jan 16 22:00:53 EST 2019: Jar: infoflow_2.11-0.2.4.jar\r\n",
      "Wed Jan 16 22:00:53 EST 2019: Spark version: 2.3.0\r\n",
      "Wed Jan 16 22:00:53 EST 2019: Spark configurations:\r\n",
      "Wed Jan 16 22:00:53 EST 2019: Executors: 1\r\n",
      "Wed Jan 16 22:00:53 EST 2019: Executor cores: 8\r\n",
      "Wed Jan 16 22:00:53 EST 2019: Driver memory: 60G\r\n",
      "Wed Jan 16 22:00:53 EST 2019: Executor memory: 60G\r\n",
      "Wed Jan 16 22:00:53 EST 2019: Reading Nets/data/science2004/science2004.net\r\n",
      "Wed Jan 16 22:00:56 EST 2019: Finished reading from disk; parallelizing...\r\n",
      "Wed Jan 16 22:01:05 EST 2019: Read in network with 7379 nodes and 893040 edges\r\n",
      "Wed Jan 16 22:01:05 EST 2019: Initializing partitioning, calculating PageRank\r\n",
      "Wed Jan 16 22:02:04 EST 2019: Finished initialization calculations\r\n",
      "Wed Jan 16 22:02:04 EST 2019: Using InfoFlow algorithm:\r\n",
      "Wed Jan 16 22:02:04 EST 2019: State 0: code length 13.163446995277198\r\n",
      "Wed Jan 16 22:02:35 EST 2019: Merge 1: merging 7379 modules into 844 modules\r\n",
      "Wed Jan 16 22:02:35 EST 2019: State 1: code length 10.631479937502336\r\n",
      "Wed Jan 16 22:02:39 EST 2019: Merge 2: merging 844 modules into 373 modules\r\n",
      "Wed Jan 16 22:02:39 EST 2019: State 2: code length 10.147904391189334\r\n",
      "Wed Jan 16 22:02:40 EST 2019: Merge 3: merging 373 modules into 345 modules\r\n",
      "Wed Jan 16 22:02:40 EST 2019: State 3: code length 10.123414270448098\r\n",
      "Wed Jan 16 22:02:41 EST 2019: Merge 4: merging 345 modules into 340 modules\r\n",
      "Wed Jan 16 22:02:41 EST 2019: State 4: code length 10.122328067039456\r\n",
      "Wed Jan 16 22:02:42 EST 2019: Merging terminates after 4 merges\r\n",
      "Wed Jan 16 22:02:42 EST 2019: Save final graph with 340 modules and 4636 connections\r\n",
      "Wed Jan 16 22:02:42 EST 2019: InfoFlow Terminate\r\n"
     ]
    }
   ],
   "source": [
    "!cat {log_path}"
   ]
  },
  {
   "cell_type": "code",
   "execution_count": 11,
   "metadata": {},
   "outputs": [
    {
     "data": {
      "application/vnd.jupyter.widget-view+json": {
       "model_id": "413f0c27a2e34903b90631ee7c2b9cb8",
       "version_major": 2,
       "version_minor": 0
      },
      "text/plain": [
       "interactive(children=(Text(value='1e-3', description='threshold_size'), Output()), _dom_classes=('widget-inter…"
      ]
     },
     "metadata": {},
     "output_type": "display_data"
    }
   ],
   "source": [
    "@interact( threshold_size=\"1e-3\" )\n",
    "def plotGraph( threshold_size ):\n",
    "    \"\"\"\n",
    "    Plots the InfoFlow output graph, where each node is a module\n",
    "    The node size indicates the ergodic frequency of the module\n",
    "\n",
    "    :param str threshold_size: minimum ergodic frequency for the module to be shown\n",
    "\n",
    "    \"\"\"\n",
    "    with open(reduced_json_path) as graphHandle:\n",
    "        graphJS = json.load( graphHandle )\n",
    "    graphData = nx.readwrite.json_graph.node_link_graph( graphJS, directed=True )\n",
    "\n",
    "    custom_color_map = plt.get_cmap('Spectral')\n",
    "\n",
    "    sub_nodes = []\n",
    "    sub_nodes_size = []\n",
    "    sub_nodes_color = []\n",
    "    for i in range( len(graphJS['nodes']) ):\n",
    "        if( float(graphJS['nodes'][i]['size']) >= float(threshold_size) ):\n",
    "            sub_nodes.append( graphJS['nodes'][i]['name'] )\n",
    "            sub_nodes_size.append(float( graphJS['nodes'][i]['size'] ) *30000)\n",
    "            sub_nodes_color.append( len(sub_nodes_color) )\n",
    "\n",
    "    map( lambda x: custom_color_map( float(x)/float(len(sub_nodes_color)) ), sub_nodes_color )\n",
    "    \n",
    "    filteredGraph = graphData.subgraph( sub_nodes )\n",
    "\n",
    "    plt.figure( figsize=[20,10], clear=True )\n",
    "    nx.draw_networkx_nodes( filteredGraph, pos=nx.circular_layout(filteredGraph), nodelist=filteredGraph.nodes, \\\n",
    "                           node_size=sub_nodes_size, \\\n",
    "                           alpha=0.5, node_color=sub_nodes_color )\n",
    "    nx.draw_networkx_labels( filteredGraph, pos=nx.circular_layout(filteredGraph), nodelist=filteredGraph.nodes )\n",
    "    nx.draw_networkx_edges( filteredGraph, pos=nx.circular_layout(filteredGraph), edgelist=filteredGraph.edges, alpha=0.2 )\n",
    "    plt.xticks([])\n",
    "    plt.yticks([])"
   ]
  },
  {
   "cell_type": "code",
   "execution_count": 8,
   "metadata": {},
   "outputs": [
    {
     "data": {
      "image/png": "[encoded data removed]",
      "text/plain": [
       "<Figure size 1080x360 with 2 Axes>"
      ]
     },
     "metadata": {
      "needs_background": "light"
     },
     "output_type": "display_data"
    }
   ],
   "source": [
    "def plotModuleNodeCountHist():\n",
    "    \"\"\"Plots the histogram of the node count within each module\"\"\"\n",
    "    # commented out implementation based off reading txt_path\n",
    "    #vertices = pd.read_csv( txt_path, delimiter = '|' )\n",
    "    #vertices.columns = vertices.columns.str.strip()\n",
    "\n",
    "    #vertices.drop('Name',axis=1) \\\n",
    "    #.groupby('Module', as_index=False).count() \\\n",
    "    #['Index'].hist()\n",
    "    #plt.title(\"Distribution of Node Count within each Module\")\n",
    "\n",
    "    with open(reduced_json_path) as graphHandle:\n",
    "        graphJS = json.load( graphHandle )\n",
    "    node_sizes = pd.io.json.json_normalize( graphJS['nodes'] )['count']\n",
    "    node_sizes = pd.to_numeric( node_sizes )\n",
    "\n",
    "    fig, (ax1,ax2) = plt.subplots( ncols=2, figsize=(15,5) )\n",
    "\n",
    "    node_sizes.hist(ax=ax1)\n",
    "    ax1.set_title(\"Distribution of Node Count within each Module\")\n",
    "\n",
    "    filtered_node_sizes = node_sizes[ node_sizes > 1 ]\n",
    "    filtered_node_sizes.hist(ax=ax2)\n",
    "    ax2.set_title(\"Distribution of Node Count within each Module (minus Singleton Modules)\")\n",
    "\n",
    "plotModuleNodeCountHist()"
   ]
  },
  {
   "cell_type": "code",
   "execution_count": 9,
   "metadata": {},
   "outputs": [
    {
     "data": {
      "image/png": "[encoded data removed]",
      "text/plain": [
       "<Figure size 1080x360 with 2 Axes>"
      ]
     },
     "metadata": {
      "needs_background": "light"
     },
     "output_type": "display_data"
    }
   ],
   "source": [
    "def plotModuleNodeProbHist():\n",
    "    \"\"\"Plots the histogram of the module size, according to ergodic frequency\"\"\"\n",
    "    with open(reduced_json_path) as graphHandle:\n",
    "        graphJS = json.load( graphHandle )\n",
    "    node_sizes = pd.io.json.json_normalize( graphJS['nodes'] )['size']\n",
    "    node_sizes = pd.to_numeric( node_sizes )\n",
    "\n",
    "    fig, (ax1,ax2) = plt.subplots( ncols=2, figsize=(15,5) )\n",
    "\n",
    "    node_sizes.hist(ax=ax1)\n",
    "    ax1.set_title(\"Distribution of Ergodic Frequency for each Module\")\n",
    "\n",
    "    number_of_nodes = node_sizes.count()\n",
    "    filtered_node_sizes = node_sizes[ node_sizes >= 1.0/float(number_of_nodes) ]\n",
    "    filtered_node_sizes.hist(ax=ax2)\n",
    "    ax2.set_title(\"Distribution of Ergodic Frequency for each Module\\n(minus Modules with p<1/(number of nodes))\")\n",
    "\n",
    "plotModuleNodeProbHist()"
   ]
  },
  {
   "cell_type": "code",
   "execution_count": 10,
   "metadata": {},
   "outputs": [
    {
     "data": {
      "image/png": "[encoded data removed]",
      "text/plain": [
       "<Figure size 1080x360 with 2 Axes>"
      ]
     },
     "metadata": {
      "needs_background": "light"
     },
     "output_type": "display_data"
    }
   ],
   "source": [
    "def plotConnections():\n",
    "    \"\"\"Plot the histogram of the number of connections per module\"\"\"\n",
    "    with open(reduced_json_path) as graphHandle:\n",
    "        graphJS = json.load( graphHandle )\n",
    "    nodes = pd.io.json.json_normalize( graphJS['nodes'] )\n",
    "    links = pd.io.json.json_normalize( graphJS['links'] )\n",
    "\n",
    "    source_count = links.groupby('source', as_index=False).count()\n",
    "    target_count = links.groupby('target', as_index=False).count()\n",
    "\n",
    "    columns = source_count .merge ( target_count, how='outer', left_on='source', right_on='target' ) \\\n",
    "    .apply( lambda row: pd.Series([ row.source_x, row.value_x+row.value_y ]), axis=1 )\n",
    "    columns.columns = ['node','count']\n",
    "    columns = columns.drop( [0], axis=0 )\n",
    "\n",
    "    node_link_count = nodes .merge( columns, how='left', left_on='id', right_on='node' )[['id','count_y']] \\\n",
    "    .apply( lambda row: pd.Series([ row.id, row.count_y if not np.isnan(row.count_y) else 0 ]), axis=1 )\n",
    "    node_link_count.columns = ['node','count']\n",
    "    node_link_count.sort_values( by='node', ascending=False, inplace=True )\n",
    "\n",
    "    fig, (ax1,ax2) = plt.subplots( ncols=2, figsize=(15,5) )\n",
    "\n",
    "    node_link_count.hist(ax=ax1)\n",
    "    ax1.set_title(\"Distribution of In+Out-going Links, for each Modude\")\n",
    "\n",
    "    filtered_node_link_count = node_link_count['count'][ node_link_count['count'] > 0 ]\n",
    "    filtered_node_link_count.hist(ax=ax2)\n",
    "    ax2.set_title(\"Distribution of In+Out-going Links, for each Modude\\n(minus Singleton Modules)\")\n",
    "\n",
    "plotConnections()"
   ]
  },
  {
   "cell_type": "code",
   "execution_count": null,
   "metadata": {},
   "outputs": [],
   "source": []
  }
 ],
 "metadata": {
  "kernelspec": {
   "display_name": "Python 3",
   "language": "python",
   "name": "python3"
  },
  "language_info": {
   "codemirror_mode": {
    "name": "ipython",
    "version": 3
   },
   "file_extension": ".py",
   "mimetype": "text/x-python",
   "name": "python",
   "nbconvert_exporter": "python",
   "pygments_lexer": "ipython3",
   "version": "3.7.2"
  }
 },
 "nbformat": 4,
 "nbformat_minor": 2
}
